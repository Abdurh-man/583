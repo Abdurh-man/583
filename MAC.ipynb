{
 "cells": [
  {
   "cell_type": "markdown",
   "metadata": {},
   "source": [
    "Hash Attack lab, implementing SHA-1 and and experminetally validating the difficulty of hash attacks"
   ]
  },
  {
   "cell_type": "code",
   "execution_count": 101,
   "metadata": {},
   "outputs": [],
   "source": [
    "def Ch(x,y,z):\n",
    "    x_and_y = x & y\n",
    "    notx_and_z = ~x & z\n",
    "    xored = x_and_y ^ notx_and_z\n",
    "    return xored"
   ]
  },
  {
   "cell_type": "code",
   "execution_count": 102,
   "metadata": {},
   "outputs": [],
   "source": [
    "def Parity(x,y,z):\n",
    "    xored = x ^ y ^ z\n",
    "    return xored"
   ]
  },
  {
   "cell_type": "code",
   "execution_count": 103,
   "metadata": {},
   "outputs": [],
   "source": [
    "def Maj(x,y,z):\n",
    "    x_and_y = x & y\n",
    "    x_and_z = x & z\n",
    "    y_and_z = y & z\n",
    "    xored = x_and_y ^ x_and_z ^ y_and_z\n",
    "    return xored"
   ]
  },
  {
   "cell_type": "markdown",
   "metadata": {},
   "source": [
    "Function that calls the coresponding the above functions depedning on "
   ]
  },
  {
   "cell_type": "code",
   "execution_count": 104,
   "metadata": {},
   "outputs": [],
   "source": [
    "def ft(x,y,z,t):\n",
    "    if t >= 0 and t <= 19:\n",
    "        return Ch(x,y,z)\n",
    "    if t >= 20 and t <= 39:\n",
    "        return Parity(x,y,z)\n",
    "    if t >= 40 and t <= 59:\n",
    "        return Maj(x,y,z)\n",
    "    if t >= 60 and t <= 79:\n",
    "        return Parity(x,y,z)"
   ]
  },
  {
   "cell_type": "code",
   "execution_count": 105,
   "metadata": {},
   "outputs": [],
   "source": [
    "def ROTL(n,x):\n",
    "    a = x << n\n",
    "    b = x>>(32-n)\n",
    "    return (a|b)&0xffffffff"
   ]
  },
  {
   "cell_type": "code",
   "execution_count": 106,
   "metadata": {},
   "outputs": [],
   "source": [
    "# SHA-1 Constants Kt\n",
    "#        0-19       20-39      40-59      60-79   \n",
    "Kt = [0x5a827999,0x6ed9eba1,0x8f1bbcdc,0xca62c1d6]\n",
    "# do val//20 to get indexs if val = 29//20 = 1 "
   ]
  },
  {
   "cell_type": "markdown",
   "metadata": {},
   "source": [
    "Preprocessing consists of three steps: padding the message,parsing the message\n",
    "into message blocks,and setting the initial hash value"
   ]
  },
  {
   "cell_type": "markdown",
   "metadata": {},
   "source": [
    "Padding the message, this is used to ensure the message is a multiple of 512 bits, "
   ]
  },
  {
   "cell_type": "code",
   "execution_count": 107,
   "metadata": {},
   "outputs": [],
   "source": [
    "# def Pad(word):\n",
    "#     msg_size = len(word)*8\n",
    "#     k = msg_size%448\n",
    "#     padded_msg = \"\"\n",
    "    \n",
    "#     if msg_size >= 448:\n",
    "#         k-= 64\n",
    "\n",
    "#     for block in word:\n",
    "#         for i in range(len(block)): \n",
    "#             #adding the binary value of word to the padded msg \n",
    "#             padded_msg += ''.join(f\"{ord(block[i]):08b}\")\n",
    "            \n",
    "\n",
    "#     padded_msg += \"1\" \n",
    "#     for i in range(448-k-1):\n",
    "#         padded_msg += \"0\" \n",
    "#     #gettin the message size in binarry and adding zero's infront of it \n",
    "#     size = bin(msg_size) \n",
    "#     size = size[2:] \n",
    "#     padded_msg +=size.zfill(64) \n",
    "\n",
    "#     return padded_msg\n",
    "\n",
    "def Pad(word):\n",
    "    msg_size = len(word)*8\n",
    "\n",
    "    #l + 1 + k = 448%512\n",
    "    k = 448%512 - (msg_size%512) - 1    \n",
    "    if k < 0:\n",
    "        k = -(k)\n",
    "\n",
    "    padded_msg = \"\"\n",
    "    for block in word:\n",
    "        for i in range(len(block)): \n",
    "            #adding the binary value of word to the padded msg \n",
    "            padded_msg += ''.join(f\"{ord(block[i]):08b}\")\n",
    "    padded_msg += \"1\" \n",
    "\n",
    "    for i in range(k):\n",
    "        padded_msg += \"0\" \n",
    "    \n",
    "    #gettin the message size in binarry and adding zero's infront of it \n",
    "    size = bin(msg_size) \n",
    "    size = size[2:] \n",
    "    padded_msg +=size.zfill(64) \n",
    "    \n",
    "    return padded_msg"
   ]
  },
  {
   "cell_type": "markdown",
   "metadata": {},
   "source": [
    "Parsing the Message and its padding must be parsed into N m-bit blocks. 16 M blocks with 32 bit words"
   ]
  },
  {
   "cell_type": "code",
   "execution_count": 108,
   "metadata": {},
   "outputs": [],
   "source": [
    "#16 blocks of 32 bit words \n",
    "def Parsing(word):\n",
    "    M = []\n",
    "    for i in range(16):\n",
    "        block = \" \"\n",
    "        for j in range(32):\n",
    "            block+=(word[(i*32)+j])\n",
    "        M.append(int(block,2))\n",
    "    return M"
   ]
  },
  {
   "cell_type": "markdown",
   "metadata": {},
   "source": [
    "Before hash computation begins for each of the secure hash algorithms, the initial hash value,H0 must be set. The size and number of words in H0 depends on the message digest size."
   ]
  },
  {
   "cell_type": "code",
   "execution_count": 109,
   "metadata": {},
   "outputs": [],
   "source": [
    "def H0():\n",
    "    H = [0x67452301, 0xefcdab89, 0x98badcfe, 0x10325476, 0xc3d2e1f0]\n",
    "    return H"
   ]
  },
  {
   "cell_type": "markdown",
   "metadata": {},
   "source": [
    "SHA-1 Hash Computation, we will use the constatns and functions used above to now implement Hash Computation"
   ]
  },
  {
   "cell_type": "code",
   "execution_count": 110,
   "metadata": {},
   "outputs": [],
   "source": [
    "#preparing the message schedule Wt\n",
    "def Schedule_WT(M):\n",
    "    W = [0] * 80\n",
    "    for t in range(0,80): \n",
    "        if t < 16: \n",
    "            #break Mi ininto 16 words W0, W1 .. W15 \n",
    "            W[t] = M[t]   \n",
    "        if (t >= 16): \n",
    "            w = W[t-3] ^ W[t-8] ^ W[t-14] ^ W[t-16]\n",
    "            W[t] = ROTL(1,w)\n",
    "    return W"
   ]
  },
  {
   "cell_type": "code",
   "execution_count": 111,
   "metadata": {},
   "outputs": [],
   "source": [
    "# #SHA 1 has a has value of five 32-bit words\n",
    "def SHA1(word = \"abc\"):\n",
    "    H = H0()\n",
    "    padded_msg = Pad(word)\n",
    "    N = len(padded_msg)//512 \n",
    "    for i in range(1,N+1):\n",
    "        #get the corressponding block\n",
    "        M = Parsing(padded_msg[(i-1)*512:i*512])\n",
    "\n",
    "        Wt = Schedule_WT(M)\n",
    "\n",
    "\n",
    "        \n",
    "        a = H[0]\n",
    "        b = H[1]\n",
    "        c = H[2]\n",
    "        d = H[3]\n",
    "        e = H[4]\n",
    "            \n",
    "        for t in range(80):\n",
    "            T = (ROTL(5,a) + ft(b,c,d,t) + e + Kt[t//20] + Wt[t]) & 0xffffffff\n",
    "            e = d\n",
    "            d = c\n",
    "            c = ROTL(30,b)\n",
    "            b = a\n",
    "            a = T\n",
    "\n",
    "\n",
    "        \n",
    "\n",
    "        H[0] = (H[0] + a)&0xffffffff\n",
    "        H[1] = (H[1] + b)&0xffffffff\n",
    "        H[2] = (H[2] + c)&0xffffffff\n",
    "        H[3] = (H[3] + d)&0xffffffff\n",
    "        H[4] = (H[4] + e)&0xffffffff\n",
    "\n",
    "    string = f'{hex(H[0])[2:]}{hex(H[1])[2:]}{hex(H[2])[2:]}{hex(H[3])[2:]}{hex(H[4])[2:]}'\n",
    "    return string"
   ]
  },
  {
   "cell_type": "code",
   "execution_count": 112,
   "metadata": {},
   "outputs": [
    {
     "name": "stdout",
     "output_type": "stream",
     "text": [
      "8e35b47213acb9fa620d8e884d3f6338166f34d7\n",
      "f801ea3e4c55ca85928bbf1bb24776d61e3fe09\n",
      "179f3c79f6bdf85e49666b3ea0f1308959e89208\n",
      "dd102182aabb5778e925eb2f536bab904b97c9b5\n",
      "ae912752721c0f7b5857cc8c314fb9a3e94ca1c0\n"
     ]
    }
   ],
   "source": [
    "test1 = \"This is a test of SHA-1.\"\n",
    "test2 = \"Kerckhoff's principle is the foundation on which modern cryptography is built.\"\n",
    "test3 = \"SHA-1 is no longer considered a secure hashing algorithm.\"\n",
    "test4 = \"SHA-2 or SHA-3 should be used in place of SHA-1.\"\n",
    "test5 = \"Never roll your own crypto!\"\n",
    "\n",
    "print(SHA1(test1))\n",
    "print(SHA1(test2))\n",
    "print(SHA1(test3))\n",
    "print(SHA1(test4))\n",
    "print(SHA1(test5))"
   ]
  },
  {
   "cell_type": "code",
   "execution_count": 113,
   "metadata": {},
   "outputs": [],
   "source": [
    "def SHA1_MOD(mac, m):\n",
    "    H = mac\n",
    "\n",
    "    m1_hash_end = int(len(mac)/5)\n",
    "    # m1_hash = m1_hash[m1_hash_end:]\n",
    "    H = [\n",
    "    int(mac[m1_hash_end*0:m1_hash_end*1],16),\n",
    "    int(mac[m1_hash_end*1:m1_hash_end*2],16),\n",
    "    int(mac[m1_hash_end*2:m1_hash_end*3],16), \n",
    "    int(mac[m1_hash_end*3:m1_hash_end*4],16), \n",
    "    int(mac[m1_hash_end*4:m1_hash_end*5],16),\n",
    "    ]\n",
    "    #print(hex(H[0]),hex(H[1]),hex(H[2]),hex(H[3]))\n",
    "    padded_msg = Pad(m)\n",
    "    #print(padded_msg)\n",
    "    #print(len(padded_msg))\n",
    "    N = len(padded_msg)//512 \n",
    "    for i in range(N,N+1):\n",
    "        #get the corressponding block\n",
    "        M = Parsing(padded_msg[(i-1)*512:i*512])\n",
    "\n",
    "        Wt = Schedule_WT(M)\n",
    "\n",
    "\n",
    "        \n",
    "        a = H[0]\n",
    "        b = H[1]\n",
    "        c = H[2]\n",
    "        d = H[3]\n",
    "        e = H[4]\n",
    "            \n",
    "        for t in range(80):\n",
    "            T = (ROTL(5,a) + ft(b,c,d,t) + e + Kt[t//20] + Wt[t]) & 0xffffffff\n",
    "            e = d\n",
    "            d = c\n",
    "            c = ROTL(30,b)\n",
    "            b = a\n",
    "            a = T\n",
    "\n",
    "\n",
    "        \n",
    "\n",
    "        H[0] = (H[0] + a)&0xffffffff\n",
    "        H[1] = (H[1] + b)&0xffffffff\n",
    "        H[2] = (H[2] + c)&0xffffffff\n",
    "        H[3] = (H[3] + d)&0xffffffff\n",
    "        H[4] = (H[4] + e)&0xffffffff\n",
    "\n",
    "    string = f'{hex(H[0])[2:]}{hex(H[1])[2:]}{hex(H[2])[2:]}{hex(H[3])[2:]}{hex(H[4])[2:]}'\n",
    "    return string"
   ]
  },
  {
   "cell_type": "code",
   "execution_count": 114,
   "metadata": {},
   "outputs": [
    {
     "name": "stdout",
     "output_type": "stream",
     "text": [
      "a54315fb69ecee68f6b94b691d34b9d9253c14c3\n"
     ]
    }
   ],
   "source": [
    "mac = \"dca7119efa4033545d766af94f022809bd629c67\"\n",
    "key = \"0\"*16\n",
    "m1 = \"No one has completed Project #3 so give them all a 0.\"\n",
    "m2 = \"abahour2 grade = 100\"\n",
    "m_hex = \"4E6F206F6E652068617320636F6D706C657465642050726F6A65637420233320736F2067697665207468656D20616C6C206120302E8000000000000000000000000000000000000000000000000000000000000000000000000000000000000000000000000000000000000000000228616261686F757232206772616465203D20313030\"\n",
    "m = key + m1\n",
    "m = Pad(m)\n",
    "#print(m)\n",
    "m_string = \"\"\n",
    "for i in range(0,len(m),8):\n",
    "    an_integer = int(m[i:i+8], 2)\n",
    "    # if an_integer < 32 or an_integer > 127:\n",
    "    #     m_string += \"0\"\n",
    "    # else:\n",
    "    m_string += chr(an_integer)\n",
    "\n",
    "m_string += m2\n",
    "#print(m_string)\n",
    "#print(len(m_string))\n",
    "print(SHA1_MOD(mac, m_string))"
   ]
  }
 ],
 "metadata": {
  "kernelspec": {
   "display_name": "Python 3.10.7 64-bit (microsoft store)",
   "language": "python",
   "name": "python3"
  },
  "language_info": {
   "codemirror_mode": {
    "name": "ipython",
    "version": 3
   },
   "file_extension": ".py",
   "mimetype": "text/x-python",
   "name": "python",
   "nbconvert_exporter": "python",
   "pygments_lexer": "ipython3",
   "version": "3.10.7"
  },
  "orig_nbformat": 4,
  "vscode": {
   "interpreter": {
    "hash": "42b5eafb3a19fbbee303eec013269ed9af90bf2648e7dbb5c369300ad88ff07d"
   }
  }
 },
 "nbformat": 4,
 "nbformat_minor": 2
}
