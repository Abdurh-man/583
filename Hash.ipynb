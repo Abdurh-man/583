{
 "cells": [
  {
   "cell_type": "markdown",
   "metadata": {},
   "source": [
    "Hash Attack lab, implementing SHA-1 and and experminetally validating the difficulty of hash attacks"
   ]
  },
  {
   "cell_type": "code",
   "execution_count": 1,
   "metadata": {},
   "outputs": [],
   "source": [
    "import binascii\n",
    "import random\n",
    "from collections import Counter\n",
    "import matplotlib.pyplot as plt\n",
    "import statistics as s\n",
    "import random\n",
    "import string"
   ]
  },
  {
   "cell_type": "code",
   "execution_count": 2,
   "metadata": {},
   "outputs": [],
   "source": [
    "def is_integer(n):\n",
    "    try:\n",
    "        float(n)\n",
    "    except ValueError:\n",
    "        return False\n",
    "    else:\n",
    "        return float(n).is_integer()"
   ]
  },
  {
   "cell_type": "code",
   "execution_count": 3,
   "metadata": {},
   "outputs": [],
   "source": [
    "def Ch(x,y,z):\n",
    "    x_and_y = x & y\n",
    "    notx_and_z = ~x & z\n",
    "    xored = x_and_y ^ notx_and_z\n",
    "    return xored"
   ]
  },
  {
   "cell_type": "code",
   "execution_count": 4,
   "metadata": {},
   "outputs": [],
   "source": [
    "def Parity(x,y,z):\n",
    "    xored = x ^ y ^ z\n",
    "    return xored"
   ]
  },
  {
   "cell_type": "code",
   "execution_count": 5,
   "metadata": {},
   "outputs": [],
   "source": [
    "def Maj(x,y,z):\n",
    "    x_and_y = x & y\n",
    "    x_and_z = x & z\n",
    "    y_and_z = y & z\n",
    "    xored = x_and_y ^ x_and_z ^ y_and_z\n",
    "    return xored"
   ]
  },
  {
   "cell_type": "markdown",
   "metadata": {},
   "source": [
    "Function that calls the coresponding the above functions depedning on "
   ]
  },
  {
   "cell_type": "code",
   "execution_count": 6,
   "metadata": {},
   "outputs": [],
   "source": [
    "def ft(x,y,z,t):\n",
    "    if t >= 0 and t <= 19:\n",
    "        return Ch(x,y,z)\n",
    "    if t >= 20 and t <= 39:\n",
    "        return Parity(x,y,z)\n",
    "    if t >= 40 and t <= 59:\n",
    "        return Maj(x,y,z)\n",
    "    if t >= 60 and t <= 79:\n",
    "        return Parity(x,y,z)"
   ]
  },
  {
   "cell_type": "code",
   "execution_count": 7,
   "metadata": {},
   "outputs": [],
   "source": [
    "def ROTL(n,x):\n",
    "    a = x << n\n",
    "    b = x>>(32-n)\n",
    "    return (a|b)&0xffffffff"
   ]
  },
  {
   "cell_type": "code",
   "execution_count": 8,
   "metadata": {},
   "outputs": [],
   "source": [
    "# SHA-1 Constants Kt\n",
    "#        0-19       20-39      40-59      60-79   \n",
    "Kt = [0x5a827999,0x6ed9eba1,0x8f1bbcdc,0xca62c1d6]\n",
    "# do val//20 to get indexs if val = 29//20 = 1 "
   ]
  },
  {
   "cell_type": "markdown",
   "metadata": {},
   "source": [
    "Preprocessing consists of three steps: padding the message,parsing the message\n",
    "into message blocks,and setting the initial hash value"
   ]
  },
  {
   "cell_type": "markdown",
   "metadata": {},
   "source": [
    "Padding the message, this is used to ensure the message is a multiple of 512 bits, "
   ]
  },
  {
   "cell_type": "code",
   "execution_count": 9,
   "metadata": {},
   "outputs": [],
   "source": [
    "def Pad(word):\n",
    "    msg_size = len(word)*8\n",
    "    k = msg_size%448\n",
    "    padded_msg = \"\"\n",
    "    \n",
    "    if msg_size >= 448:\n",
    "        k-= 64\n",
    "\n",
    "    for block in word:\n",
    "        for i in range(len(block)): \n",
    "            #adding the binary value of word to the padded msg \n",
    "            padded_msg += ''.join(f\"{ord(block[i]):08b}\")\n",
    "            \n",
    "\n",
    "    padded_msg += \"1\" \n",
    "    for i in range(448-k-1):\n",
    "        padded_msg += \"0\" \n",
    "    #gettin the message size in binarry and adding zero's infront of it \n",
    "    size = bin(msg_size) \n",
    "    size = size[2:] \n",
    "    padded_msg +=size.zfill(64) \n",
    "\n",
    "    return padded_msg\n"
   ]
  },
  {
   "cell_type": "markdown",
   "metadata": {},
   "source": [
    "Parsing the Message and its padding must be parsed into N m-bit blocks. 16 M blocks with 32 bit words"
   ]
  },
  {
   "cell_type": "code",
   "execution_count": 10,
   "metadata": {},
   "outputs": [],
   "source": [
    "#16 blocks of 32 bit words \n",
    "def Parsing(word):\n",
    "    M = []\n",
    "    for i in range(16):\n",
    "        block = \" \"\n",
    "        for j in range(32):\n",
    "            block+=(word[(i*32)+j])\n",
    "        M.append(int(block,2))\n",
    "    return M"
   ]
  },
  {
   "cell_type": "markdown",
   "metadata": {},
   "source": [
    "Before hash computation begins for each of the secure hash algorithms, the initial hash value,H0 must be set. The size and number of words in H0 depends on the message digest size."
   ]
  },
  {
   "cell_type": "code",
   "execution_count": 11,
   "metadata": {},
   "outputs": [],
   "source": [
    "def H0():\n",
    "    H = [0x67452301, 0xefcdab89, 0x98badcfe, 0x10325476, 0xc3d2e1f0]\n",
    "    return H"
   ]
  },
  {
   "cell_type": "markdown",
   "metadata": {},
   "source": [
    "SHA-1 Hash Computation, we will use the constatns and functions used above to now implement Hash Computation"
   ]
  },
  {
   "cell_type": "code",
   "execution_count": 12,
   "metadata": {},
   "outputs": [],
   "source": [
    "#preparing the message schedule Wt\n",
    "def Schedule_WT(M):\n",
    "    W = [0] * 80\n",
    "    for t in range(0,80): \n",
    "        if t < 16: \n",
    "            #break Mi ininto 16 words W0, W1 .. W15 \n",
    "            W[t] = M[t]   \n",
    "        if (t >= 16): \n",
    "            w = W[t-3] ^ W[t-8] ^ W[t-14] ^ W[t-16]\n",
    "            W[t] = ROTL(1,w)\n",
    "    return W"
   ]
  },
  {
   "cell_type": "code",
   "execution_count": 13,
   "metadata": {},
   "outputs": [],
   "source": [
    "# #SHA 1 has a has value of five 32-bit words\n",
    "def SHA1(word = \"abc\"):\n",
    "    H = H0()\n",
    "    padded_msg = Pad(word)\n",
    "    N = len(padded_msg)//512 \n",
    "    for i in range(1,N+1):\n",
    "        #get the corressponding block\n",
    "        M = Parsing(padded_msg[(i-1)*512:i*512])\n",
    "\n",
    "        Wt = Schedule_WT(M)\n",
    "\n",
    "\n",
    "        \n",
    "        a = H[0]\n",
    "        b = H[1]\n",
    "        c = H[2]\n",
    "        d = H[3]\n",
    "        e = H[4]\n",
    "            \n",
    "        for t in range(80):\n",
    "            T = (ROTL(5,a) + ft(b,c,d,t) + e + Kt[t//20] + Wt[t]) & 0xffffffff\n",
    "            e = d\n",
    "            d = c\n",
    "            c = ROTL(30,b)\n",
    "            b = a\n",
    "            a = T\n",
    "\n",
    "\n",
    "        \n",
    "\n",
    "        H[0] = (H[0] + a)&0xffffffff\n",
    "        H[1] = (H[1] + b)&0xffffffff\n",
    "        H[2] = (H[2] + c)&0xffffffff\n",
    "        H[3] = (H[3] + d)&0xffffffff\n",
    "        H[4] = (H[4] + e)&0xffffffff\n",
    "\n",
    "    string = f'{hex(H[0])[2:]}{hex(H[1])[2:]}{hex(H[2])[2:]}{hex(H[3])[2:]}{hex(H[4])[2:]}'\n",
    "    return string"
   ]
  },
  {
   "cell_type": "code",
   "execution_count": 14,
   "metadata": {},
   "outputs": [
    {
     "name": "stdout",
     "output_type": "stream",
     "text": [
      "8e35b47213acb9fa620d8e884d3f6338166f34d7\n",
      "f801ea3e4c55ca85928bbf1bb24776d61e3fe09\n",
      "a0773c12a8851bcf9697b57ce3e3b49436f02cfe\n",
      "dd102182aabb5778e925eb2f536bab904b97c9b5\n",
      "ae912752721c0f7b5857cc8c314fb9a3e94ca1c0\n"
     ]
    }
   ],
   "source": [
    "test1 = \"This is a test of SHA-1.\"\n",
    "test2 = \"Kerckhoff's principle is the foundation on which modern cryptography is built.\"\n",
    "test3 = \"SHA-1 is no longer considered a secure hashing algorithm.\"\n",
    "test4 = \"SHA-2 or SHA-3 should be used in place of SHA-1.\"\n",
    "test5 = \"Never roll your own crypto!\"\n",
    "\n",
    "print(SHA1(test1))\n",
    "print(SHA1(test2))\n",
    "print(SHA1(test3))\n",
    "print(SHA1(test4))\n",
    "print(SHA1(test5))"
   ]
  },
  {
   "cell_type": "markdown",
   "metadata": {},
   "source": [
    "Part 2—Experimentally validate the difficulty of hash attacks"
   ]
  },
  {
   "cell_type": "code",
   "execution_count": 15,
   "metadata": {},
   "outputs": [],
   "source": [
    "def Wraper(msg,n):\n",
    "    msg_digest = SHA1(msg)\n",
    "    return msg_digest[:n]"
   ]
  },
  {
   "cell_type": "code",
   "execution_count": 16,
   "metadata": {},
   "outputs": [],
   "source": [
    "def attack(msg,n):\n",
    "    Hash = []\n",
    "    given_hash = Wraper(msg,n)\n",
    "    Hash.append(given_hash)\n",
    "    \n",
    "    preimage = 0\n",
    "    collision = 0\n",
    "    collion_check = False\n",
    "    while True:\n",
    "\n",
    "        random_string = \"\"\n",
    "        letter_size = n//8\n",
    "\n",
    "        # if isinstance(int_or_float, float) == False:\n",
    "        if is_integer(n/8) == False:\n",
    "                letter_size+=1\n",
    "        for size in range(letter_size):\n",
    "                random_string += random.choice(string.ascii_letters)\n",
    "        \n",
    "\n",
    "        preimage+=1\n",
    "        new_hash = Wraper(random_string,n)\n",
    "        if Hash.count(new_hash) > 1 and collion_check == False:\n",
    "            collision = preimage\n",
    "            collion_check = True\n",
    "\n",
    "        Hash.append(new_hash)\n",
    "\n",
    "        if new_hash == given_hash:\n",
    "            break\n",
    "\n",
    "    return preimage, collision"
   ]
  },
  {
   "cell_type": "code",
   "execution_count": 17,
   "metadata": {},
   "outputs": [],
   "source": [
    "def Sample(n):\n",
    "    \n",
    "\n",
    "    x = [i for i in range(50)]\n",
    "    preimage = []\n",
    "    collision = []\n",
    "    for i in range(50):\n",
    "        random_string = \"\"\n",
    "        letter_size = n//8\n",
    "\n",
    "        # if isinstance(int_or_float, float) == False:\n",
    "        if is_integer(n/8) == False:\n",
    "                letter_size+=1\n",
    "        for size in range(letter_size):\n",
    "                random_string += random.choice(string.ascii_letters)\n",
    "        \n",
    "        pre,col = attack(random_string,n)\n",
    "\n",
    "        preimage.append(pre)\n",
    "        collision.append(col)\n",
    "\n",
    "    \n",
    "    return preimage,collision"
   ]
  },
  {
   "cell_type": "code",
   "execution_count": 18,
   "metadata": {},
   "outputs": [
    {
     "name": "stdout",
     "output_type": "stream",
     "text": [
      "8\n",
      "10\n",
      "12\n",
      "14\n",
      "16\n",
      "18\n",
      "20\n",
      "22\n"
     ]
    },
    {
     "data": {
      "text/plain": [
       "<Figure size 1000x700 with 0 Axes>"
      ]
     },
     "metadata": {},
     "output_type": "display_data"
    },
    {
     "data": {
      "text/plain": [
       "<Figure size 1000x700 with 0 Axes>"
      ]
     },
     "metadata": {},
     "output_type": "display_data"
    }
   ],
   "source": [
    "N = [8,10,12,14,16,18,20,22]\n",
    "preimage = []\n",
    "collision = []\n",
    "y_avg1 =[]\n",
    "y_avg2 = []\n",
    "\n",
    "y_avg1.append(None)\n",
    "y_avg2.append(None)\n",
    "for n in N:\n",
    "    print(n)\n",
    "    a,b = Sample(n)\n",
    "    preimage.append(a)\n",
    "    collision.append(b)\n",
    "    y_avg1.append(s.mean(a))\n",
    "    y_avg2.append(s.mean(b))\n",
    "    \n",
    "\n",
    "fig = plt.figure(figsize =(10, 7))\n",
    "ax = fig.add_subplot(111)\n",
    "\n",
    "plt.boxplot(preimage)\n",
    "\n",
    "\n",
    "plt.plot(y_avg1, linestyle = '-', marker = ' ')\n",
    "plt.title('Pre-image attack results', fontsize = 20)\n",
    "plt.ylabel(\"Number of attempts\")\n",
    "plt.xlabel(\"number of bits\")\n",
    "plt.xticks([1,2,3,4,5,6,7,8], N)\n",
    "plt.savefig(\"preimage.jpg\")\n",
    "\n",
    "plt.clf()\n",
    "\n",
    "\n",
    "fig = plt.figure(figsize =(10, 7))\n",
    "ax = fig.add_subplot(111)\n",
    "\n",
    "# Creating axes instance\n",
    "plt.boxplot(collision)\n",
    "\n",
    "plt.plot(y_avg2, linestyle = '-', marker = ' ')\n",
    "plt.title('Collision attack results', fontsize = 20)\n",
    "plt.ylabel(\"Number of attempts\")\n",
    "plt.xlabel(\"number of bits\")\n",
    "plt.xticks([1,2,3,4,5,6,7,8], N)\n",
    "plt.savefig(\"collision.jpg\")\n",
    "\n",
    "plt.clf()"
   ]
  },
  {
   "cell_type": "code",
   "execution_count": 19,
   "metadata": {},
   "outputs": [
    {
     "name": "stdout",
     "output_type": "stream",
     "text": [
      "[None, 37.7, 2702.6, 3035.86, 2390.82, 2554.86, 152350.8, 126415.3, 144283.24]\n",
      "[None, 13.72, 295.44, 285.32, 294.64, 282.34, 4000.7, 4549.54, 4445.88]\n"
     ]
    }
   ],
   "source": [
    "print(y_avg1)\n",
    "print(y_avg2)"
   ]
  }
 ],
 "metadata": {
  "kernelspec": {
   "display_name": "Python 3.10.7 64-bit (microsoft store)",
   "language": "python",
   "name": "python3"
  },
  "language_info": {
   "codemirror_mode": {
    "name": "ipython",
    "version": 3
   },
   "file_extension": ".py",
   "mimetype": "text/x-python",
   "name": "python",
   "nbconvert_exporter": "python",
   "pygments_lexer": "ipython3",
   "version": "3.10.7"
  },
  "orig_nbformat": 4,
  "vscode": {
   "interpreter": {
    "hash": "42b5eafb3a19fbbee303eec013269ed9af90bf2648e7dbb5c369300ad88ff07d"
   }
  }
 },
 "nbformat": 4,
 "nbformat_minor": 2
}
