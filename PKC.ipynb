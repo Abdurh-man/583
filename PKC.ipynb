{
 "cells": [
  {
   "cell_type": "code",
   "execution_count": 875,
   "metadata": {},
   "outputs": [],
   "source": [
    "import random\n",
    "from Crypto.Hash import SHA256\n",
    "from Crypto.Cipher import AES\n",
    "from Crypto.Util.Padding import pad, unpad\n"
   ]
  },
  {
   "cell_type": "markdown",
   "metadata": {},
   "source": [
    "implement the fast modular exponentiation algorithm.\n",
    "<!-- From 𝑖=0→𝑙\n",
    "   If 𝑒_𝑖=1\n",
    "       𝑝𝑟𝑜𝑑𝑢𝑐𝑡=𝑝𝑟𝑜𝑑𝑢𝑐𝑡⋅𝑏 (𝑚𝑜𝑑 𝑛)\n",
    "   𝑏=𝑏⋅𝑏 (𝑚𝑜𝑑 𝑛)\n",
    "       not needed if 𝑖=𝑙 -->"
   ]
  },
  {
   "cell_type": "code",
   "execution_count": 876,
   "metadata": {},
   "outputs": [],
   "source": [
    "def FastModExpo(g,a,p):\n",
    "    product = 1\n",
    "    while a > 1.0:\n",
    "        if a & 1:   \n",
    "            product = (product * g)%p\n",
    "        g = (g*g)%p\n",
    "        a = a >> 1\n",
    "    product = (product*g)%p\n",
    "    return product"
   ]
  },
  {
   "cell_type": "markdown",
   "metadata": {},
   "source": []
  },
  {
   "cell_type": "markdown",
   "metadata": {},
   "source": [
    "Miller-Rabin algorithm for primality testing."
   ]
  },
  {
   "cell_type": "code",
   "execution_count": 877,
   "metadata": {},
   "outputs": [],
   "source": [
    "# n is an odd integer to be tested \n",
    "#k is the number of rounds\n",
    "\n",
    "prime = [2,3]\n",
    "def MillerRabin(p,k): \n",
    "    if p in prime:\n",
    "        return 1.0\n",
    "    #p = 2^s * d + 1\n",
    "    #(p - 1)/2^s = d\n",
    "    s = p-1\n",
    "    t = 0\n",
    "    #keep factoring 2 from p-1\n",
    "    while s%2 == 0:\n",
    "        s = s//2\n",
    "        t+=1\n",
    "    for run in range(k):\n",
    "        a = random.randrange(2, p - 1)\n",
    "        x = FastModExpo(a,s,p)\n",
    "        if x == 1 or x == p-1:\n",
    "            continue\n",
    "        con = False\n",
    "        for _ in range(t-1):\n",
    "            x = FastModExpo(x,2,p)\n",
    "            if x == 1:\n",
    "                return False\n",
    "            if x == p-1:\n",
    "                con = True\n",
    "                break\n",
    "        if con:\n",
    "            break\n",
    "        return False\n",
    "    return 1 - (1/4)**k"
   ]
  },
  {
   "cell_type": "code",
   "execution_count": 878,
   "metadata": {},
   "outputs": [
    {
     "name": "stdout",
     "output_type": "stream",
     "text": [
      "7\n",
      "7\n"
     ]
    },
    {
     "data": {
      "text/plain": [
       "0.9990234375"
      ]
     },
     "execution_count": 878,
     "metadata": {},
     "output_type": "execute_result"
    }
   ],
   "source": [
    "print(FastModExpo(7,3,12))\n",
    "print(pow(7,3,12))\n",
    "\n",
    "MillerRabin(97,5)"
   ]
  },
  {
   "cell_type": "code",
   "execution_count": 879,
   "metadata": {},
   "outputs": [],
   "source": [
    "def largePrime():   \n",
    "    p = 0\n",
    "    while True:\n",
    "        p = random.getrandbits(1023)\n",
    "        p = (1 << 1023) | p\n",
    "        # bin is prime and it is also a string prime\n",
    "        if MillerRabin(p,40):\n",
    "            break\n",
    "    return p"
   ]
  },
  {
   "cell_type": "code",
   "execution_count": 880,
   "metadata": {},
   "outputs": [],
   "source": [
    "def strongPrime():\n",
    "    p =  0\n",
    "    while True:\n",
    "        p = random.getrandbits(1023)\n",
    "        p = (1 << 1023) | p\n",
    "        # bin is prime and it is also a string prime\n",
    "        if MillerRabin(p,40):\n",
    "            if MillerRabin(((p-1)//2),40):\n",
    "                break\n",
    "    return p"
   ]
  },
  {
   "cell_type": "markdown",
   "metadata": {},
   "source": [
    "Diffie-Hellman key exchange protocol to establish a secret key to use for communication with a server. \n",
    "1. selecting a strong prime number p, randomly generated prime \n",
    "(p-1)/2 should also be prime, p must be at least 1024 bits\n",
    "\n",
    "2. select random a as a private key calculate g^a(mod p)\n",
    "\n",
    "3. send g^b (mod p) over server. and calculate g^ab(mod p)\n",
    "\n",
    "4. transform shared key into an symmetric encryption key by \n",
    "taking the SHA-256 hash of g^ab(mod p) and using\n",
    "then use the frist 16bytes of the digest,\n",
    "\n",
    "5. Using the symmetric key and the provided IV, decrypt the provided ciphertext\n"
   ]
  },
  {
   "cell_type": "code",
   "execution_count": 881,
   "metadata": {},
   "outputs": [],
   "source": [
    "from sys import byteorder\n",
    "\n",
    "\n",
    "def DiffieHelMan(g,gb,iv,text):#,alice,bob,plaintext_bytes):\n",
    "    # step 1\n",
    "    #generating a prime numbers\n",
    "    p = strongPrime()\n",
    "    a = (1 << 127) | random.getrandbits(127)\n",
    "    # p = 130635404946584327979728202681500708343189057309418461464314595332010287530244742491242461022436743183994140156373502369580884108564745010076604808672023607225436599202513365818265358898533951906567899097693712964007519554859367494414730297878472420449420386891557684094738162281836402071973299353802090467227\n",
    "    # a = 340282366920938463463374607431768211455\n",
    "    #step 2\n",
    "    # alice_key = 121390207882088389568971170739395257833857109472212882780777334538298515660689474565134443264717740709589234877915124275147701830102760693337178050820355788929588808711913345951777645026879116028241868616010032475835382705415623652900776739310853859295673470730740684158897422103060330149829443929530571396268\n",
    "    alice_key = FastModExpo(g,a,p)\n",
    "    # print(\"p = \", p)\n",
    "    # print(\"a = \", a)\n",
    "    # print(\"alice key = \",alice_key)\n",
    "    #step 3\n",
    "    \n",
    "    #create a g^ab(mod p) into a symmetric key the two below are the same\n",
    "    sharedKey =FastModExpo(gb,a,p)\n",
    "    print(\"sharedKey = \",sharedKey)\n",
    "\n",
    "    h = SHA256.new()\n",
    "    encryption_key = h.update(sharedKey.to_bytes(128, byteorder='big'))\n",
    "    encryption_key = h.digest()[:16]\n",
    "    print(\"encryption_key = \",encryption_key)\n",
    "    \n",
    "   \n",
    "    iv = bytes.fromhex(iv)\n",
    "    print(\"iv = \",iv)\n",
    "    ciphertext = bytes.fromhex(text)\n",
    "    decipher = AES.new(encryption_key, AES.MODE_CBC, iv=iv)\n",
    "    plaintext = unpad(decipher.decrypt(ciphertext), 16)\n",
    "    print(\"Plaintext =\", plaintext)\n",
    " "
   ]
  },
  {
   "cell_type": "code",
   "execution_count": 882,
   "metadata": {},
   "outputs": [],
   "source": [
    "# print(FastModExpo(4235880211405804673, 131, 12855544647099734480))\n",
    "# primes = [2, 3, 5, 7, 11, 13, 17, 19, 23, 29, 31, 41, 43, 47, 53, 59, 61, 67, 71, 73, 79, 89, 97, 1223]\n",
    "# for p in primes:\n",
    "#     print(p, MillerRabin(p,40))\n",
    "# nonprimes = [4, 6, 8, 9, 10, 12, 14, 15, 16, 18, 20, 21, 22, 24, 25, 26, 27, 28, 30, 32, 33, 34, 35, 36]\n",
    "# for p in nonprimes:\n",
    "#     print(p, MillerRabin(p,40))\n",
    "# #print(MillerRabin(3,40))"
   ]
  },
  {
   "cell_type": "code",
   "execution_count": 883,
   "metadata": {},
   "outputs": [
    {
     "ename": "KeyboardInterrupt",
     "evalue": "",
     "output_type": "error",
     "traceback": [
      "\u001b[1;31m---------------------------------------------------------------------------\u001b[0m",
      "\u001b[1;31mKeyboardInterrupt\u001b[0m                         Traceback (most recent call last)",
      "\u001b[1;32mc:\\Users\\bahou\\Desktop\\cosc583\\PKC.ipynb Cell 13\u001b[0m in \u001b[0;36m<cell line: 4>\u001b[1;34m()\u001b[0m\n\u001b[0;32m      <a href='vscode-notebook-cell:/c%3A/Users/bahou/Desktop/cosc583/PKC.ipynb#X12sZmlsZQ%3D%3D?line=1'>2</a>\u001b[0m cipherText \u001b[39m=\u001b[39m \u001b[39m'\u001b[39m\u001b[39m23990947d732bf0ce32efdc59b0b14e7637bdeb8370f5cad179ca7e7a7f6be076f37074722ecdb2b37724629ed6e9d7acb23d1e67d5c9ae50025db4dffd1deafa94f463ed67d71d119a193da26b41e41\u001b[39m\u001b[39m'\u001b[39m\n\u001b[0;32m      <a href='vscode-notebook-cell:/c%3A/Users/bahou/Desktop/cosc583/PKC.ipynb#X12sZmlsZQ%3D%3D?line=2'>3</a>\u001b[0m iv \u001b[39m=\u001b[39m \u001b[39m'\u001b[39m\u001b[39mecab15457aee2ad3ad66704c99cc8a6e\u001b[39m\u001b[39m'\u001b[39m\n\u001b[1;32m----> <a href='vscode-notebook-cell:/c%3A/Users/bahou/Desktop/cosc583/PKC.ipynb#X12sZmlsZQ%3D%3D?line=3'>4</a>\u001b[0m DiffieHelMan(\u001b[39m5\u001b[39;49m,gb,iv,cipherText)\n",
      "\u001b[1;32mc:\\Users\\bahou\\Desktop\\cosc583\\PKC.ipynb Cell 13\u001b[0m in \u001b[0;36mDiffieHelMan\u001b[1;34m(g, gb, iv, text)\u001b[0m\n\u001b[0;32m      <a href='vscode-notebook-cell:/c%3A/Users/bahou/Desktop/cosc583/PKC.ipynb#X12sZmlsZQ%3D%3D?line=3'>4</a>\u001b[0m \u001b[39mdef\u001b[39;00m \u001b[39mDiffieHelMan\u001b[39m(g,gb,iv,text):\u001b[39m#,alice,bob,plaintext_bytes):\u001b[39;00m\n\u001b[0;32m      <a href='vscode-notebook-cell:/c%3A/Users/bahou/Desktop/cosc583/PKC.ipynb#X12sZmlsZQ%3D%3D?line=4'>5</a>\u001b[0m     \u001b[39m# step 1\u001b[39;00m\n\u001b[0;32m      <a href='vscode-notebook-cell:/c%3A/Users/bahou/Desktop/cosc583/PKC.ipynb#X12sZmlsZQ%3D%3D?line=5'>6</a>\u001b[0m     \u001b[39m#generating a prime numbers\u001b[39;00m\n\u001b[1;32m----> <a href='vscode-notebook-cell:/c%3A/Users/bahou/Desktop/cosc583/PKC.ipynb#X12sZmlsZQ%3D%3D?line=6'>7</a>\u001b[0m     p \u001b[39m=\u001b[39m strongPrime()\n\u001b[0;32m      <a href='vscode-notebook-cell:/c%3A/Users/bahou/Desktop/cosc583/PKC.ipynb#X12sZmlsZQ%3D%3D?line=7'>8</a>\u001b[0m     a \u001b[39m=\u001b[39m (\u001b[39m1\u001b[39m \u001b[39m<<\u001b[39m \u001b[39m127\u001b[39m) \u001b[39m|\u001b[39m random\u001b[39m.\u001b[39mgetrandbits(\u001b[39m127\u001b[39m)\n\u001b[0;32m      <a href='vscode-notebook-cell:/c%3A/Users/bahou/Desktop/cosc583/PKC.ipynb#X12sZmlsZQ%3D%3D?line=8'>9</a>\u001b[0m     \u001b[39m# p = 130635404946584327979728202681500708343189057309418461464314595332010287530244742491242461022436743183994140156373502369580884108564745010076604808672023607225436599202513365818265358898533951906567899097693712964007519554859367494414730297878472420449420386891557684094738162281836402071973299353802090467227\u001b[39;00m\n\u001b[0;32m     <a href='vscode-notebook-cell:/c%3A/Users/bahou/Desktop/cosc583/PKC.ipynb#X12sZmlsZQ%3D%3D?line=9'>10</a>\u001b[0m     \u001b[39m# a = 340282366920938463463374607431768211455\u001b[39;00m\n\u001b[0;32m     <a href='vscode-notebook-cell:/c%3A/Users/bahou/Desktop/cosc583/PKC.ipynb#X12sZmlsZQ%3D%3D?line=10'>11</a>\u001b[0m     \u001b[39m#step 2\u001b[39;00m\n\u001b[0;32m     <a href='vscode-notebook-cell:/c%3A/Users/bahou/Desktop/cosc583/PKC.ipynb#X12sZmlsZQ%3D%3D?line=11'>12</a>\u001b[0m     \u001b[39m# alice_key = 121390207882088389568971170739395257833857109472212882780777334538298515660689474565134443264717740709589234877915124275147701830102760693337178050820355788929588808711913345951777645026879116028241868616010032475835382705415623652900776739310853859295673470730740684158897422103060330149829443929530571396268\u001b[39;00m\n",
      "\u001b[1;32mc:\\Users\\bahou\\Desktop\\cosc583\\PKC.ipynb Cell 13\u001b[0m in \u001b[0;36mstrongPrime\u001b[1;34m()\u001b[0m\n\u001b[0;32m      <a href='vscode-notebook-cell:/c%3A/Users/bahou/Desktop/cosc583/PKC.ipynb#X12sZmlsZQ%3D%3D?line=4'>5</a>\u001b[0m p \u001b[39m=\u001b[39m (\u001b[39m1\u001b[39m \u001b[39m<<\u001b[39m \u001b[39m1023\u001b[39m) \u001b[39m|\u001b[39m p\n\u001b[0;32m      <a href='vscode-notebook-cell:/c%3A/Users/bahou/Desktop/cosc583/PKC.ipynb#X12sZmlsZQ%3D%3D?line=5'>6</a>\u001b[0m \u001b[39m# bin is prime and it is also a string prime\u001b[39;00m\n\u001b[1;32m----> <a href='vscode-notebook-cell:/c%3A/Users/bahou/Desktop/cosc583/PKC.ipynb#X12sZmlsZQ%3D%3D?line=6'>7</a>\u001b[0m \u001b[39mif\u001b[39;00m MillerRabin(p,\u001b[39m40\u001b[39;49m):\n\u001b[0;32m      <a href='vscode-notebook-cell:/c%3A/Users/bahou/Desktop/cosc583/PKC.ipynb#X12sZmlsZQ%3D%3D?line=7'>8</a>\u001b[0m     \u001b[39mif\u001b[39;00m MillerRabin(((p\u001b[39m-\u001b[39m\u001b[39m1\u001b[39m)\u001b[39m/\u001b[39m\u001b[39m/\u001b[39m\u001b[39m2\u001b[39m),\u001b[39m40\u001b[39m):\n\u001b[0;32m      <a href='vscode-notebook-cell:/c%3A/Users/bahou/Desktop/cosc583/PKC.ipynb#X12sZmlsZQ%3D%3D?line=8'>9</a>\u001b[0m         \u001b[39mbreak\u001b[39;00m\n",
      "\u001b[1;32mc:\\Users\\bahou\\Desktop\\cosc583\\PKC.ipynb Cell 13\u001b[0m in \u001b[0;36mMillerRabin\u001b[1;34m(p, k)\u001b[0m\n\u001b[0;32m     <a href='vscode-notebook-cell:/c%3A/Users/bahou/Desktop/cosc583/PKC.ipynb#X12sZmlsZQ%3D%3D?line=15'>16</a>\u001b[0m \u001b[39mfor\u001b[39;00m run \u001b[39min\u001b[39;00m \u001b[39mrange\u001b[39m(k):\n\u001b[0;32m     <a href='vscode-notebook-cell:/c%3A/Users/bahou/Desktop/cosc583/PKC.ipynb#X12sZmlsZQ%3D%3D?line=16'>17</a>\u001b[0m     a \u001b[39m=\u001b[39m random\u001b[39m.\u001b[39mrandrange(\u001b[39m2\u001b[39m, p \u001b[39m-\u001b[39m \u001b[39m1\u001b[39m)\n\u001b[1;32m---> <a href='vscode-notebook-cell:/c%3A/Users/bahou/Desktop/cosc583/PKC.ipynb#X12sZmlsZQ%3D%3D?line=17'>18</a>\u001b[0m     x \u001b[39m=\u001b[39m FastModExpo(a,s,p)\n\u001b[0;32m     <a href='vscode-notebook-cell:/c%3A/Users/bahou/Desktop/cosc583/PKC.ipynb#X12sZmlsZQ%3D%3D?line=18'>19</a>\u001b[0m     \u001b[39mif\u001b[39;00m x \u001b[39m==\u001b[39m \u001b[39m1\u001b[39m \u001b[39mor\u001b[39;00m x \u001b[39m==\u001b[39m p\u001b[39m-\u001b[39m\u001b[39m1\u001b[39m:\n\u001b[0;32m     <a href='vscode-notebook-cell:/c%3A/Users/bahou/Desktop/cosc583/PKC.ipynb#X12sZmlsZQ%3D%3D?line=19'>20</a>\u001b[0m         \u001b[39mcontinue\u001b[39;00m\n",
      "\u001b[1;32mc:\\Users\\bahou\\Desktop\\cosc583\\PKC.ipynb Cell 13\u001b[0m in \u001b[0;36mFastModExpo\u001b[1;34m(g, a, p)\u001b[0m\n\u001b[0;32m      <a href='vscode-notebook-cell:/c%3A/Users/bahou/Desktop/cosc583/PKC.ipynb#X12sZmlsZQ%3D%3D?line=2'>3</a>\u001b[0m \u001b[39mwhile\u001b[39;00m a \u001b[39m>\u001b[39m \u001b[39m1.0\u001b[39m:\n\u001b[0;32m      <a href='vscode-notebook-cell:/c%3A/Users/bahou/Desktop/cosc583/PKC.ipynb#X12sZmlsZQ%3D%3D?line=3'>4</a>\u001b[0m     \u001b[39mif\u001b[39;00m a \u001b[39m&\u001b[39m \u001b[39m1\u001b[39m:   \n\u001b[1;32m----> <a href='vscode-notebook-cell:/c%3A/Users/bahou/Desktop/cosc583/PKC.ipynb#X12sZmlsZQ%3D%3D?line=4'>5</a>\u001b[0m         product \u001b[39m=\u001b[39m (product \u001b[39m*\u001b[39;49m g)\u001b[39m%\u001b[39mp\n\u001b[0;32m      <a href='vscode-notebook-cell:/c%3A/Users/bahou/Desktop/cosc583/PKC.ipynb#X12sZmlsZQ%3D%3D?line=5'>6</a>\u001b[0m     g \u001b[39m=\u001b[39m (g\u001b[39m*\u001b[39mg)\u001b[39m%\u001b[39mp\n\u001b[0;32m      <a href='vscode-notebook-cell:/c%3A/Users/bahou/Desktop/cosc583/PKC.ipynb#X12sZmlsZQ%3D%3D?line=6'>7</a>\u001b[0m     a \u001b[39m=\u001b[39m a \u001b[39m>>\u001b[39m \u001b[39m1\u001b[39m\n",
      "\u001b[1;31mKeyboardInterrupt\u001b[0m: "
     ]
    }
   ],
   "source": [
    "gb = 10435686096467056152951151916665526083456922979824349290437944617802264340942039677192395806616843362745195815949829615029832921980862496410733386757281179132242795033662579109371890229200163960569252973849760036087382290730170829239104948931165514173688377595379382550166021845897656428705047529312956632582\n",
    "cipherText = '23990947d732bf0ce32efdc59b0b14e7637bdeb8370f5cad179ca7e7a7f6be076f37074722ecdb2b37724629ed6e9d7acb23d1e67d5c9ae50025db4dffd1deafa94f463ed67d71d119a193da26b41e41'\n",
    "iv = 'ecab15457aee2ad3ad66704c99cc8a6e'\n",
    "DiffieHelMan(5,gb,iv,cipherText)\n",
    "#print(MillerRabin(71181241,10))"
   ]
  },
  {
   "cell_type": "markdown",
   "metadata": {},
   "source": [
    "In the second part of this project, you will generate an RSA keypair and use it to encrypt and decrypt some simple values.\n",
    "1. Generate 2 1024-bit primes p and q and calculate n =pq . Verify that eul(n) (p-1)(q-1) is relatively prime to e = 65537. If it isn’t, start over.\n",
    "\n",
    "2. calculate d = e^-1(mod elu(n)). use extended euclidean algorithm\n",
    "\n",
    "3. Using your RSA parameters, you will encrypt a message (c = m^e(mod n)). The result of this encryption will be a large integer.\n",
    "\n",
    "4. Using your RSA parameters, you will decrypt a message (m = c^d(modn)). The result of this decryption will be a ASCII-encoded string. When transforming from m to bytes, ensure you use a big-endian encoding."
   ]
  },
  {
   "cell_type": "code",
   "execution_count": null,
   "metadata": {},
   "outputs": [],
   "source": [
    "def euclidean(a, b):\n",
    "    r2,rb,r1,ra = 0,1,1,0\n",
    "    while b != 0:\n",
    "        q = a//b\n",
    "        r2, rb = rb - q*r2, r2\n",
    "        r1, ra = ra - q*r1,r1\n",
    "        a,b = b, a%b\n",
    "    return rb"
   ]
  },
  {
   "cell_type": "code",
   "execution_count": null,
   "metadata": {},
   "outputs": [],
   "source": [
    "def gcd(a, b):\n",
    "  while b != 0:\n",
    "    a, b = b, a % b\n",
    "  return a"
   ]
  },
  {
   "cell_type": "code",
   "execution_count": 892,
   "metadata": {},
   "outputs": [],
   "source": [
    "def str_to_int(s):\n",
    "    val = 0\n",
    "    for i in range(len(s)):\n",
    "        val = (val  << 8) | ord(s[i])\n",
    "    return val"
   ]
  },
  {
   "cell_type": "code",
   "execution_count": 904,
   "metadata": {},
   "outputs": [],
   "source": [
    "def RSA(m,e=65537):\n",
    "    p,q,n, phi = 0,0,0,0\n",
    "    denominator = 0\n",
    "    quotient, remainder = 0,0\n",
    "    while True:\n",
    "        p = largePrime()\n",
    "        q = largePrime()\n",
    "\n",
    "        phi = (q-1)*(p-1)\n",
    "\n",
    "        if gcd(e,phi) == 1:\n",
    "            break\n",
    "    n = p*q\n",
    "    print(\"p = \",p)\n",
    "    print(\"q = \",q)\n",
    "    print(\"n = \",n)\n",
    "    print(\"phi = \",phi)\n",
    "\n",
    "    # d = (euc_n+1)//euclidean(p,q)\n",
    "    d = euclidean(e,phi)\n",
    "    if d  < 0:\n",
    "        d+=phi\n",
    "    print(\"d = \",d)\n",
    "    \n",
    "    p =  164376417565753139736561134404946742595653517966669130175868951856755580192057496447249124077361691119587155416642876289049843886467587450103413809034333363207991212536824122728306064197164077477684733400890498966319818773421317281292159018272719861369382001293216926816979744628532756528311035751226341714981\n",
    "    q =  118242296583127091708071578191300851111412442944481086946619719468340196052397019066571344109036548722212002670116831438181388746342568671860027879654956776578623085895127755741785739340408362580803108653714894040840710473227837892334574116531029456548617642649848647506104352170190971313356193260224739858153\n",
    "    n =  19436245117081724532169022678317990246142530667154896859104999153694584892482447975157336040608678588377689957383326174523007192052506044547957621185107789866579120741715942786132079626070444404732795932679325498543582757457289060797371533225427792672957435062317793541572981225272833092560273311246674943798969303452395508004981180499177829817546511588662677067740286228537839767431697238010779824874875974145991301789414597451266654124987855278649431038279657579422226587113516032130446458194825504422624105811352207432966140755964344182609888774592919667519933243011498740603430193159159896781193060881936695090093\n",
    "    phi =  19436245117081724532169022678317990246142530667154896859104999153694584892482447975157336040608678588377689957383326174523007192052506044547957621185107789866579120741715942786132079626070444404732795932679325498543582757457289060797371533225427792672957435062317793541572981225272833092560273311246674943798686684738246627773536547786581582223839445627751526850617797557212743991187242722496959356688477734304192143702654889724035421492177699156685989349590367439635612288681564153660354654657253064364136263756746814425805611509315189008983155639789170349601933599068433166280346096360436168939525831870485613516960\n",
    "    d =  7142568738266876018627015917491042877887250081446488791899000558731409471757133787535121857912620582609644703505195959339184051961373812913209505296582632881375277231845930788122816206330478707349812430270669626423602653929861753517004074129136258277545613409842710829840299065100186340559098256375252442840648337812776474103145615711613757515280669064784286321776691584416615442936868543397115662091418553686957956405309067612397105317875516219686976326281862297880343719740097823775210667298858397579166848899362044015305893580578101104602748377690196052608648073606728174568501081598863919507141616716797770968193\n",
    "    m = str_to_int(m)\n",
    "    \n",
    "    cipher  = FastModExpo(m,e,n)\n",
    "    # enc_msg = encrypt_msg.to_bytes((encrypt_msg.bit_length() + 7),byteorder='big')\n",
    "\n",
    "    print(\"encrypt_msg = \",cipher)\n",
    "    \n",
    "    # cipher = 2939995009605936725614492297753992975628372609244761534101051878618598060735894262794074832573760796612242424354480606252764318406200080361663085752039591061619571119662343121057986190117214254497387126998560906584590583000872759700539804848818896698673692317369129327107990084134003558672487548386476392972691085711332703145081701286846992770053629489326123020979316740365433816451738084138881212485243149472564696288361756394222789700774494947020508764437371798564429119902360671946313495830736071221003715316612042012265011162917151721210060406480032563846974159115161855514589221600482531069327621682148516556227\n",
    "    # print(\"enc_msg = \",enc_msg)\n",
    "\n",
    "    #given cipher\n",
    "    cipher = 16417637294061419135020320899790274167958279238076638488065176358218062003057059365942368267446075530058172758363532754286074094249282100413889906908952230899236386470745613356689564982135121223392539058097256392103698731612178705012397861640915049527777008799720444075348151646256234484998914781754882587072489143639592275411131720359497365010676803588868852934084014440296133086424973982241311083963558810033318091731310149468435248491448470161246447137103036984628840147436809891470416933399012444493885152421621921365515250718160882863360918428148677681169172208700044983123485067238165999032501172613006247068356\n",
    "    decrypt_msg = FastModExpo(cipher,d,n)\n",
    "    msg = decrypt_msg.to_bytes((decrypt_msg.bit_length() + 7) // 8, 'big')\n",
    "    print('decrypt_msg = ',msg)\n",
    "\n"
   ]
  },
  {
   "cell_type": "code",
   "execution_count": 905,
   "metadata": {},
   "outputs": [
    {
     "name": "stdout",
     "output_type": "stream",
     "text": [
      "encrypt_msg =  2939995009605936725614492297753992975628372609244761534101051878618598060735894262794074832573760796612242424354480606252764318406200080361663085752039591061619571119662343121057986190117214254497387126998560906584590583000872759700539804848818896698673692317369129327107990084134003558672487548386476392972691085711332703145081701286846992770053629489326123020979316740365433816451738084138881212485243149472564696288361756394222789700774494947020508764437371798564429119902360671946313495830736071221003715316612042012265011162917151721210060406480032563846974159115161855514589221600482531069327621682148516556227\n",
      "decrypt_msg =  b'syndactyly'\n"
     ]
    }
   ],
   "source": [
    "RSA('retuning')"
   ]
  }
 ],
 "metadata": {
  "kernelspec": {
   "display_name": "Python 3.10.8 64-bit (microsoft store)",
   "language": "python",
   "name": "python3"
  },
  "language_info": {
   "codemirror_mode": {
    "name": "ipython",
    "version": 3
   },
   "file_extension": ".py",
   "mimetype": "text/x-python",
   "name": "python",
   "nbconvert_exporter": "python",
   "pygments_lexer": "ipython3",
   "version": "3.10.8"
  },
  "orig_nbformat": 4,
  "vscode": {
   "interpreter": {
    "hash": "42b5eafb3a19fbbee303eec013269ed9af90bf2648e7dbb5c369300ad88ff07d"
   }
  }
 },
 "nbformat": 4,
 "nbformat_minor": 2
}
